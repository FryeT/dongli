{
 "cells": [
  {
   "cell_type": "code",
   "execution_count": 2,
   "metadata": {
    "collapsed": false
   },
   "outputs": [],
   "source": [
    "import matplotlib.pyplot as plt\n",
    "%matplotlib inline\n",
    "import pandas as pd\n",
    "%run damping_ratio.py"
   ]
  },
  {
   "cell_type": "code",
   "execution_count": 8,
   "metadata": {
    "collapsed": true
   },
   "outputs": [],
   "source": [
    "import glob\n",
    "from time_of_file import time_of_file\n",
    "files = glob.glob('dl_G345/datas/0.1hz/*.csv')\n",
    "files.sort(key=time_of_file)"
   ]
  },
  {
   "cell_type": "code",
   "execution_count": 10,
   "metadata": {
    "collapsed": false
   },
   "outputs": [
    {
     "data": {
      "text/plain": [
       "['dl_G345/datas/0.1hz\\\\dl_G345_1.4kn2017-8-16(10-46-19).csv',\n",
       " 'dl_G345/datas/0.1hz\\\\dl_G345_2.8kn2017-8-16(10-48-36).csv',\n",
       " 'dl_G345/datas/0.1hz\\\\dl_G345_3.5kn2017-8-16(10-50-42).csv',\n",
       " 'dl_G345/datas/0.1hz\\\\dl_G345_4.2kn2017-8-16(10-52-50).csv',\n",
       " 'dl_G345/datas/0.1hz\\\\dl_G345_4.9kn2017-8-16(10-54-59).csv',\n",
       " 'dl_G345/datas/0.1hz\\\\dl_G345_5.6kn2017-8-16(10-57-9).csv',\n",
       " 'dl_G345/datas/0.1hz\\\\dl_G345_6.3kn2017-8-16(10-59-8).csv',\n",
       " 'dl_G345/datas/0.1hz\\\\dl_G345_7kn2017-8-16(11-1-9).csv',\n",
       " 'dl_G345/datas/0.1hz\\\\dl_G345_0.7kn2017-8-16(11-3-45).csv',\n",
       " 'dl_G345/datas/0.1hz\\\\dl_G345_2.1kn2017-8-16(11-5-46).csv',\n",
       " 'dl_G345/datas/0.1hz\\\\dl_G345_7.7kn2017-8-16(11-8-11).csv',\n",
       " 'dl_G345/datas/0.1hz\\\\dl_G345_8.4kn2017-8-16(11-10-24).csv']"
      ]
     },
     "execution_count": 10,
     "metadata": {},
     "output_type": "execute_result"
    }
   ],
   "source": [
    "files"
   ]
  },
  {
   "cell_type": "code",
   "execution_count": 6,
   "metadata": {
    "collapsed": true
   },
   "outputs": [],
   "source": [
    "df = pd.read_csv(f)\n",
    "loop = np.stack((df['epsilon_d'].values[50:100],df['sigma_d'].values[50:100]),axis=-1)\n"
   ]
  },
  {
   "cell_type": "code",
   "execution_count": 7,
   "metadata": {
    "collapsed": true
   },
   "outputs": [],
   "source": [
    "for f in files:\n",
    "    dp.data_process(f)"
   ]
  },
  {
   "cell_type": "code",
   "execution_count": null,
   "metadata": {
    "collapsed": true
   },
   "outputs": [],
   "source": []
  }
 ],
 "metadata": {
  "kernelspec": {
   "display_name": "Python [Root]",
   "language": "python",
   "name": "Python [Root]"
  },
  "language_info": {
   "codemirror_mode": {
    "name": "ipython",
    "version": 3
   },
   "file_extension": ".py",
   "mimetype": "text/x-python",
   "name": "python",
   "nbconvert_exporter": "python",
   "pygments_lexer": "ipython3",
   "version": "3.5.2"
  }
 },
 "nbformat": 4,
 "nbformat_minor": 0
}
